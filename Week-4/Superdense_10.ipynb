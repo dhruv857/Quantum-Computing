{
 "cells": [
  {
   "cell_type": "code",
   "execution_count": 1,
   "metadata": {},
   "outputs": [
    {
     "name": "stderr",
     "output_type": "stream",
     "text": [
      "/usr/local/lib/python3.5/dist-packages/marshmallow/schema.py:364: ChangedInMarshmallow3Warning: strict=False is not recommended. In marshmallow 3.0, schemas will always be strict. See https://marshmallow.readthedocs.io/en/latest/upgrading.html#schemas-are-always-strict\n",
      "  ChangedInMarshmallow3Warning\n"
     ]
    },
    {
     "data": {
      "application/vnd.jupyter.widget-view+json": {
       "model_id": "ef19567ac98a4bb08d28d43d32bad775",
       "version_major": 2,
       "version_minor": 0
      },
      "text/plain": [
       "HTML(value=\"<p style='font-size:16px;'>Job Status: job is being initialized </p>\")"
      ]
     },
     "metadata": {},
     "output_type": "display_data"
    },
    {
     "name": "stdout",
     "output_type": "stream",
     "text": [
      "5c77155b0d0ab500588b2d43 JobStatus.DONE\n",
      "{'01': 128}\n"
     ]
    },
    {
     "name": "stderr",
     "output_type": "stream",
     "text": [
      "/usr/local/lib/python3.5/dist-packages/marshmallow/schema.py:364: ChangedInMarshmallow3Warning: strict=False is not recommended. In marshmallow 3.0, schemas will always be strict. See https://marshmallow.readthedocs.io/en/latest/upgrading.html#schemas-are-always-strict\n",
      "  ChangedInMarshmallow3Warning\n"
     ]
    },
    {
     "data": {
      "text/plain": [
       "<Figure size 700x500 with 1 Axes>"
      ]
     },
     "execution_count": 1,
     "metadata": {},
     "output_type": "execute_result"
    }
   ],
   "source": [
    "import sys\n",
    "import os\n",
    "# Install qiskit package\n",
    "#!pip install qiskit\n",
    "from qiskit import QuantumCircuit, ClassicalRegister, QuantumRegister\n",
    "import numpy as np\n",
    "from IPython.display import Image\n",
    "# Alice wants to send a two bit message to Bob, 00, 01, 10, or 11.\n",
    "# She performs a single qubit operation on her qubit which transformsthe entangled state according \n",
    "# to which message she wants to send:\n",
    "from qiskit import IBMQ\n",
    "IBMQ.enable_account('')\n",
    "\n",
    "from qiskit.tools.visualization import plot_histogram\n",
    "# Creating registers\n",
    "q= QuantumRegister(2, 'q')\n",
    "c = ClassicalRegister(2, 'c')\n",
    "\n",
    "# Quantum circuit to make the shared entangled state is the following\n",
    "superdense = QuantumCircuit(q, c)\n",
    "superdense.h(q[0])\n",
    "superdense.cx(q[0], q[1])\n",
    "superdense.draw()\n",
    "# Execute (send to BOB) on state (combination of 2 classic bits) only, such as 00 or 01 or 10 or 11\n",
    "\n",
    "# For 00, do nothing\n",
    "\n",
    "# Case A: For 01, apply $X$\n",
    "# superdense.x(q[0])\n",
    "\n",
    "# Case B: For 10, apply $Z$\n",
    "# Write here the required GATE    like superdense.<Z-gate>(<qubit)\n",
    "# superdense.z(q[1])\n",
    "# Case C: For 11, apply $XZ$\n",
    "superdense.x(q[0])\n",
    "superdense.x(q[1])\n",
    "superdense.z(q[1])\n",
    "# Write here the required GATE    like superdense.<Z-gate>(<qubit)\n",
    "# Write here the required GATE    like superdense.<X-gate>(<qubit)\n",
    "superdense.cx(q[0], q[1])\n",
    "superdense.h(q[0])\n",
    "superdense.measure(q[0], c[0])\n",
    "superdense.measure(q[1], c[1])\n",
    "from qiskit import execute\n",
    "#backend = IBMQ.get_backend('ibmqx4', hub=None)\n",
    "backend = IBMQ.get_backend('ibmq_qasm_simulator', hub=None)\n",
    "#backend = 'ibmq_qasm_simulator'\n",
    "from qiskit.tools.monitor import job_monitor\n",
    "shots = 128           # Number of shots to run the program (experiment); maximum is 8192 shots.\n",
    "max_credits = 1        # Maximum number of credits to spend on executions. \n",
    "\n",
    "job_exp = execute(superdense, backend=backend, shots=shots, max_credits=max_credits)\n",
    "job_monitor(job_exp)\n",
    "for ran_job in backend.jobs(limit=1\n",
    "                        ):\n",
    "    print(str(ran_job.job_id()) + \" \" + str(ran_job.status()))\n",
    "    result = ran_job.result()\n",
    "    counts = result.get_counts()\n",
    "    print(counts)\n",
    "plot_histogram(counts)\n"
   ]
  },
  {
   "cell_type": "code",
   "execution_count": null,
   "metadata": {},
   "outputs": [],
   "source": []
  },
  {
   "cell_type": "code",
   "execution_count": null,
   "metadata": {},
   "outputs": [],
   "source": []
  }
 ],
 "metadata": {
  "kernelspec": {
   "display_name": "Python 3",
   "language": "python",
   "name": "python3"
  },
  "language_info": {
   "codemirror_mode": {
    "name": "ipython",
    "version": 3
   },
   "file_extension": ".py",
   "mimetype": "text/x-python",
   "name": "python",
   "nbconvert_exporter": "python",
   "pygments_lexer": "ipython3",
   "version": "3.5.2"
  }
 },
 "nbformat": 4,
 "nbformat_minor": 2
}
